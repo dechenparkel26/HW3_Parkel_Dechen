{
 "cells": [
  {
   "cell_type": "code",
   "execution_count": 8,
   "id": "37a80afb",
   "metadata": {},
   "outputs": [],
   "source": [
    "marks = {\"Andy\":73, \"Amy\":65, \"James\":91, \"Jules\":58, \"Arthur\":83}"
   ]
  },
  {
   "cell_type": "code",
   "execution_count": 9,
   "id": "242cef69",
   "metadata": {},
   "outputs": [],
   "source": [
    "def gradefinder(studentname):\n",
    "    cantfind=0\n",
    "    for name,grade in marks.items():\n",
    "        if studentname==name:\n",
    "            return marks[studentname]\n",
    "        else:\n",
    "            cantfind=1\n",
    "    if cantfind==1:\n",
    "        print(studentname + \" Cannot Be Found\")"
   ]
  },
  {
   "cell_type": "code",
   "execution_count": 16,
   "id": "52ae6199",
   "metadata": {},
   "outputs": [],
   "source": [
    "def average(dictionary):\n",
    "    summation=0\n",
    "    for grade in dictionary.values():\n",
    "        summation+=grade\n",
    "    average=summation/len(dictionary.values())\n",
    "    return average"
   ]
  },
  {
   "cell_type": "code",
   "execution_count": 17,
   "id": "4488f31f",
   "metadata": {},
   "outputs": [
    {
     "data": {
      "text/plain": [
       "74.0"
      ]
     },
     "execution_count": 17,
     "metadata": {},
     "output_type": "execute_result"
    }
   ],
   "source": [
    "average(marks)"
   ]
  },
  {
   "cell_type": "code",
   "execution_count": 12,
   "id": "aabfdcc3",
   "metadata": {},
   "outputs": [],
   "source": [
    "def square(num):\n",
    "    n=0\n",
    "    while n<num:\n",
    "        print(n,n**2)\n",
    "        n+=1\n",
    "    else:\n",
    "        print(\"greater than \",num)"
   ]
  },
  {
   "cell_type": "code",
   "execution_count": 14,
   "id": "391d3c5a",
   "metadata": {},
   "outputs": [
    {
     "name": "stdout",
     "output_type": "stream",
     "text": [
      "0 0\n",
      "1 1\n",
      "2 4\n",
      "3 9\n",
      "4 16\n",
      "5 25\n",
      "6 36\n",
      "7 49\n",
      "greater than  8\n"
     ]
    }
   ],
   "source": [
    "square(8)"
   ]
  },
  {
   "cell_type": "code",
   "execution_count": 18,
   "id": "36a738f3",
   "metadata": {},
   "outputs": [],
   "source": [
    "def sumn(num):\n",
    "    n=0\n",
    "    total=0\n",
    "    while n<=num:\n",
    "        total+=n\n",
    "        n+=1\n",
    "    print(total)"
   ]
  },
  {
   "cell_type": "code",
   "execution_count": 19,
   "id": "c2474ced",
   "metadata": {},
   "outputs": [
    {
     "name": "stdout",
     "output_type": "stream",
     "text": [
      "10\n"
     ]
    }
   ],
   "source": [
    "sumn(4)"
   ]
  },
  {
   "cell_type": "code",
   "execution_count": 20,
   "id": "8af38eb4",
   "metadata": {},
   "outputs": [],
   "source": [
    "def sumn2(num):\n",
    "    n=0\n",
    "    total=0\n",
    "    while n<=num:\n",
    "        total+=n\n",
    "        n+=1\n",
    "        print(total)"
   ]
  },
  {
   "cell_type": "code",
   "execution_count": 21,
   "id": "3a1c83bc",
   "metadata": {},
   "outputs": [
    {
     "name": "stdout",
     "output_type": "stream",
     "text": [
      "0\n",
      "1\n",
      "3\n",
      "6\n",
      "10\n"
     ]
    }
   ],
   "source": [
    "sumn2(4)"
   ]
  },
  {
   "cell_type": "code",
   "execution_count": 22,
   "id": "bbec0a7d",
   "metadata": {},
   "outputs": [],
   "source": [
    "def diagnostics(list):\n",
    "    std=0\n",
    "    numerator=0\n",
    "    for i in list:\n",
    "        mean2=sum(list)/len(list)\n",
    "        sum2=sum(list)\n",
    "        numerator+=(i-mean2)**2\n",
    "    std=(numerator/len(list))**(1/2)\n",
    "    print(mean2,\" \",sum2,\" \",std,\" \")"
   ]
  },
  {
   "cell_type": "code",
   "execution_count": 23,
   "id": "8016317d",
   "metadata": {},
   "outputs": [
    {
     "name": "stdout",
     "output_type": "stream",
     "text": [
      "50.0   4950   28.577380332470412  \n"
     ]
    }
   ],
   "source": [
    "diagnostics(range(1,100))"
   ]
  },
  {
   "cell_type": "code",
   "execution_count": 24,
   "id": "5e69eda3",
   "metadata": {},
   "outputs": [],
   "source": [
    "def minimal(v1,v2,v3,v4):\n",
    "    minval=v1\n",
    "    if v2<minval:\n",
    "        minval=v2\n",
    "    if v3<minval:\n",
    "        minval=v3\n",
    "    if v4<minval:\n",
    "        minval=v4\n",
    "    return minval"
   ]
  },
  {
   "cell_type": "code",
   "execution_count": 25,
   "id": "8cab718c",
   "metadata": {},
   "outputs": [
    {
     "data": {
      "text/plain": [
       "4"
      ]
     },
     "execution_count": 25,
     "metadata": {},
     "output_type": "execute_result"
    }
   ],
   "source": [
    "minimal(4, 5, 10, 9)"
   ]
  },
  {
   "cell_type": "code",
   "execution_count": 26,
   "id": "a8cdab0c",
   "metadata": {},
   "outputs": [],
   "source": [
    "def concatenator(*args):\n",
    "    output=[]\n",
    "    for i in args:\n",
    "            if type(i)==list:\n",
    "                for e in i:\n",
    "                    output.append(e)\n",
    "            else:\n",
    "                output+i\n",
    "    return output"
   ]
  }
 ],
 "metadata": {
  "kernelspec": {
   "display_name": "Python 3 (ipykernel)",
   "language": "python",
   "name": "python3"
  },
  "language_info": {
   "codemirror_mode": {
    "name": "ipython",
    "version": 3
   },
   "file_extension": ".py",
   "mimetype": "text/x-python",
   "name": "python",
   "nbconvert_exporter": "python",
   "pygments_lexer": "ipython3",
   "version": "3.9.13"
  }
 },
 "nbformat": 4,
 "nbformat_minor": 5
}
